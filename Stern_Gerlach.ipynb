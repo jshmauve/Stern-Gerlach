{
  "nbformat": 4,
  "nbformat_minor": 0,
  "metadata": {
    "colab": {
      "name": "Stern-Gerlach.ipynb",
      "provenance": [],
      "collapsed_sections": [],
      "authorship_tag": "ABX9TyMnT9iLjkjKtzG6sdTvk9K7",
      "include_colab_link": true
    },
    "kernelspec": {
      "name": "python3",
      "display_name": "Python 3"
    },
    "language_info": {
      "name": "python"
    }
  },
  "cells": [
    {
      "cell_type": "markdown",
      "metadata": {
        "id": "view-in-github",
        "colab_type": "text"
      },
      "source": [
        "<a href=\"https://colab.research.google.com/github/jshmauve/Stern-Gerlach/blob/main/Stern_Gerlach.ipynb\" target=\"_parent\"><img src=\"https://colab.research.google.com/assets/colab-badge.svg\" alt=\"Open In Colab\"/></a>"
      ]
    },
    {
      "cell_type": "markdown",
      "metadata": {
        "id": "FErN5hECEAJt"
      },
      "source": [
        "#필요한 라이브러리 불러오기"
      ]
    },
    {
      "cell_type": "code",
      "metadata": {
        "id": "3zNGCGgU8X-F"
      },
      "source": [
        "import os"
      ],
      "execution_count": 2,
      "outputs": []
    },
    {
      "cell_type": "code",
      "metadata": {
        "id": "xPymtC5k8krL"
      },
      "source": [
        "os._exit(00)"
      ],
      "execution_count": null,
      "outputs": []
    },
    {
      "cell_type": "code",
      "metadata": {
        "colab": {
          "base_uri": "https://localhost:8080/"
        },
        "id": "51W77jMR8oXY",
        "outputId": "efaede88-f526-483e-9f4e-71c857cd9552"
      },
      "source": [
        "pip install qiskit"
      ],
      "execution_count": 2,
      "outputs": [
        {
          "output_type": "stream",
          "name": "stdout",
          "text": [
            "Collecting qiskit\n",
            "  Downloading qiskit-0.29.1.tar.gz (12 kB)\n",
            "Collecting qiskit-terra==0.18.2\n",
            "  Downloading qiskit_terra-0.18.2-cp37-cp37m-manylinux2010_x86_64.whl (6.1 MB)\n",
            "\u001b[K     |████████████████████████████████| 6.1 MB 5.4 MB/s \n",
            "\u001b[?25hCollecting qiskit-aer==0.8.2\n",
            "  Downloading qiskit_aer-0.8.2-cp37-cp37m-manylinux2010_x86_64.whl (18.0 MB)\n",
            "\u001b[K     |████████████████████████████████| 18.0 MB 127 kB/s \n",
            "\u001b[?25hCollecting qiskit-ibmq-provider==0.16.0\n",
            "  Downloading qiskit_ibmq_provider-0.16.0-py3-none-any.whl (235 kB)\n",
            "\u001b[K     |████████████████████████████████| 235 kB 64.5 MB/s \n",
            "\u001b[?25hCollecting qiskit-ignis==0.6.0\n",
            "  Downloading qiskit_ignis-0.6.0-py3-none-any.whl (207 kB)\n",
            "\u001b[K     |████████████████████████████████| 207 kB 54.9 MB/s \n",
            "\u001b[?25hCollecting qiskit-aqua==0.9.5\n",
            "  Downloading qiskit_aqua-0.9.5-py3-none-any.whl (2.1 MB)\n",
            "\u001b[K     |████████████████████████████████| 2.1 MB 48.7 MB/s \n",
            "\u001b[?25hRequirement already satisfied: scipy>=1.0 in /usr/local/lib/python3.7/dist-packages (from qiskit-aer==0.8.2->qiskit) (1.4.1)\n",
            "Requirement already satisfied: numpy>=1.16.3 in /usr/local/lib/python3.7/dist-packages (from qiskit-aer==0.8.2->qiskit) (1.19.5)\n",
            "Collecting pybind11>=2.6\n",
            "  Downloading pybind11-2.7.1-py2.py3-none-any.whl (200 kB)\n",
            "\u001b[K     |████████████████████████████████| 200 kB 73.7 MB/s \n",
            "\u001b[?25hRequirement already satisfied: pandas in /usr/local/lib/python3.7/dist-packages (from qiskit-aqua==0.9.5->qiskit) (1.1.5)\n",
            "Requirement already satisfied: setuptools>=40.1.0 in /usr/local/lib/python3.7/dist-packages (from qiskit-aqua==0.9.5->qiskit) (57.4.0)\n",
            "Collecting yfinance>=0.1.62\n",
            "  Downloading yfinance-0.1.63.tar.gz (26 kB)\n",
            "Collecting retworkx>=0.8.0\n",
            "  Downloading retworkx-0.10.2-cp37-cp37m-manylinux_2_5_x86_64.manylinux1_x86_64.manylinux_2_12_x86_64.manylinux2010_x86_64.whl (1.4 MB)\n",
            "\u001b[K     |████████████████████████████████| 1.4 MB 53.9 MB/s \n",
            "\u001b[?25hRequirement already satisfied: h5py<3.3.0 in /usr/local/lib/python3.7/dist-packages (from qiskit-aqua==0.9.5->qiskit) (3.1.0)\n",
            "Requirement already satisfied: fastdtw<=0.3.4 in /usr/local/lib/python3.7/dist-packages (from qiskit-aqua==0.9.5->qiskit) (0.3.4)\n",
            "Collecting dlx<=1.0.4\n",
            "  Downloading dlx-1.0.4.tar.gz (5.5 kB)\n",
            "Requirement already satisfied: psutil>=5 in /usr/local/lib/python3.7/dist-packages (from qiskit-aqua==0.9.5->qiskit) (5.4.8)\n",
            "Collecting docplex>=2.21.207\n",
            "  Downloading docplex-2.21.207.tar.gz (635 kB)\n",
            "\u001b[K     |████████████████████████████████| 635 kB 39.0 MB/s \n",
            "\u001b[?25hRequirement already satisfied: scikit-learn>=0.20.0 in /usr/local/lib/python3.7/dist-packages (from qiskit-aqua==0.9.5->qiskit) (0.22.2.post1)\n",
            "Requirement already satisfied: sympy>=1.3 in /usr/local/lib/python3.7/dist-packages (from qiskit-aqua==0.9.5->qiskit) (1.7.1)\n",
            "Collecting quandl\n",
            "  Downloading Quandl-3.6.1-py2.py3-none-any.whl (26 kB)\n",
            "Requirement already satisfied: requests>=2.19 in /usr/local/lib/python3.7/dist-packages (from qiskit-ibmq-provider==0.16.0->qiskit) (2.23.0)\n",
            "Requirement already satisfied: urllib3>=1.21.1 in /usr/local/lib/python3.7/dist-packages (from qiskit-ibmq-provider==0.16.0->qiskit) (1.24.3)\n",
            "Collecting requests-ntlm>=1.1.0\n",
            "  Downloading requests_ntlm-1.1.0-py2.py3-none-any.whl (5.7 kB)\n",
            "Requirement already satisfied: python-dateutil>=2.8.0 in /usr/local/lib/python3.7/dist-packages (from qiskit-ibmq-provider==0.16.0->qiskit) (2.8.2)\n",
            "Collecting websocket-client>=1.0.1\n",
            "  Downloading websocket_client-1.2.1-py2.py3-none-any.whl (52 kB)\n",
            "\u001b[K     |████████████████████████████████| 52 kB 1.4 MB/s \n",
            "\u001b[?25hRequirement already satisfied: jsonschema>=2.6 in /usr/local/lib/python3.7/dist-packages (from qiskit-terra==0.18.2->qiskit) (2.6.0)\n",
            "Collecting python-constraint>=1.4\n",
            "  Downloading python-constraint-1.4.0.tar.bz2 (18 kB)\n",
            "Collecting fastjsonschema>=2.10\n",
            "  Downloading fastjsonschema-2.15.1-py3-none-any.whl (21 kB)\n",
            "Collecting ply>=3.10\n",
            "  Downloading ply-3.11-py2.py3-none-any.whl (49 kB)\n",
            "\u001b[K     |████████████████████████████████| 49 kB 5.4 MB/s \n",
            "\u001b[?25hCollecting tweedledum<2.0,>=1.1\n",
            "  Downloading tweedledum-1.1.1-cp37-cp37m-manylinux_2_12_x86_64.manylinux2010_x86_64.whl (943 kB)\n",
            "\u001b[K     |████████████████████████████████| 943 kB 49.4 MB/s \n",
            "\u001b[?25hRequirement already satisfied: dill>=0.3 in /usr/local/lib/python3.7/dist-packages (from qiskit-terra==0.18.2->qiskit) (0.3.4)\n",
            "Collecting symengine>0.7\n",
            "  Downloading symengine-0.8.1-cp37-cp37m-manylinux2010_x86_64.whl (38.2 MB)\n",
            "\u001b[K     |████████████████████████████████| 38.2 MB 19 kB/s \n",
            "\u001b[?25hRequirement already satisfied: six in /usr/local/lib/python3.7/dist-packages (from docplex>=2.21.207->qiskit-aqua==0.9.5->qiskit) (1.15.0)\n",
            "Requirement already satisfied: cached-property in /usr/local/lib/python3.7/dist-packages (from h5py<3.3.0->qiskit-aqua==0.9.5->qiskit) (1.5.2)\n",
            "Requirement already satisfied: chardet<4,>=3.0.2 in /usr/local/lib/python3.7/dist-packages (from requests>=2.19->qiskit-ibmq-provider==0.16.0->qiskit) (3.0.4)\n",
            "Requirement already satisfied: certifi>=2017.4.17 in /usr/local/lib/python3.7/dist-packages (from requests>=2.19->qiskit-ibmq-provider==0.16.0->qiskit) (2021.5.30)\n",
            "Requirement already satisfied: idna<3,>=2.5 in /usr/local/lib/python3.7/dist-packages (from requests>=2.19->qiskit-ibmq-provider==0.16.0->qiskit) (2.10)\n",
            "Collecting ntlm-auth>=1.0.2\n",
            "  Downloading ntlm_auth-1.5.0-py2.py3-none-any.whl (29 kB)\n",
            "Collecting cryptography>=1.3\n",
            "  Downloading cryptography-3.4.8-cp36-abi3-manylinux_2_24_x86_64.whl (3.0 MB)\n",
            "\u001b[K     |████████████████████████████████| 3.0 MB 43.3 MB/s \n",
            "\u001b[?25hRequirement already satisfied: cffi>=1.12 in /usr/local/lib/python3.7/dist-packages (from cryptography>=1.3->requests-ntlm>=1.1.0->qiskit-ibmq-provider==0.16.0->qiskit) (1.14.6)\n",
            "Requirement already satisfied: pycparser in /usr/local/lib/python3.7/dist-packages (from cffi>=1.12->cryptography>=1.3->requests-ntlm>=1.1.0->qiskit-ibmq-provider==0.16.0->qiskit) (2.20)\n",
            "Requirement already satisfied: joblib>=0.11 in /usr/local/lib/python3.7/dist-packages (from scikit-learn>=0.20.0->qiskit-aqua==0.9.5->qiskit) (1.0.1)\n",
            "Requirement already satisfied: mpmath>=0.19 in /usr/local/lib/python3.7/dist-packages (from sympy>=1.3->qiskit-aqua==0.9.5->qiskit) (1.2.1)\n",
            "Requirement already satisfied: multitasking>=0.0.7 in /usr/local/lib/python3.7/dist-packages (from yfinance>=0.1.62->qiskit-aqua==0.9.5->qiskit) (0.0.9)\n",
            "Collecting lxml>=4.5.1\n",
            "  Downloading lxml-4.6.3-cp37-cp37m-manylinux2014_x86_64.whl (6.3 MB)\n",
            "\u001b[K     |████████████████████████████████| 6.3 MB 15.5 MB/s \n",
            "\u001b[?25hRequirement already satisfied: pytz>=2017.2 in /usr/local/lib/python3.7/dist-packages (from pandas->qiskit-aqua==0.9.5->qiskit) (2018.9)\n",
            "Collecting inflection>=0.3.1\n",
            "  Downloading inflection-0.5.1-py2.py3-none-any.whl (9.5 kB)\n",
            "Requirement already satisfied: more-itertools in /usr/local/lib/python3.7/dist-packages (from quandl->qiskit-aqua==0.9.5->qiskit) (8.8.0)\n",
            "Building wheels for collected packages: qiskit, dlx, docplex, python-constraint, yfinance\n",
            "  Building wheel for qiskit (setup.py) ... \u001b[?25l\u001b[?25hdone\n",
            "  Created wheel for qiskit: filename=qiskit-0.29.1-py3-none-any.whl size=11239 sha256=65ee4684643ffc4a7cf3b259ce0f2c1c90598bf95bccf51277eb945915e38921\n",
            "  Stored in directory: /root/.cache/pip/wheels/7a/b8/82/921a13d73dac0322d4eea1eceb7a5419ac8f92cc0f54197456\n",
            "  Building wheel for dlx (setup.py) ... \u001b[?25l\u001b[?25hdone\n",
            "  Created wheel for dlx: filename=dlx-1.0.4-py3-none-any.whl size=5719 sha256=2b653c0f5e19d8dd2775d560198adb4c7d7aabfa1eb804b7e5b2ee7a9b821bb6\n",
            "  Stored in directory: /root/.cache/pip/wheels/78/55/c8/dc61e772445a566b7608a476d151e9dcaf4e092b01b0c4bc3c\n",
            "  Building wheel for docplex (setup.py) ... \u001b[?25l\u001b[?25hdone\n",
            "  Created wheel for docplex: filename=docplex-2.21.207-py3-none-any.whl size=700544 sha256=0167e45ab6ad10f68ba4f68697f5e8149f0c844d61ed7118912fe31f2a2ea0e9\n",
            "  Stored in directory: /root/.cache/pip/wheels/d8/4e/62/e43a45757e70549e6aa4712ccfcf67440a203c278ecb68de49\n",
            "  Building wheel for python-constraint (setup.py) ... \u001b[?25l\u001b[?25hdone\n",
            "  Created wheel for python-constraint: filename=python_constraint-1.4.0-py2.py3-none-any.whl size=24081 sha256=3794cba8b455eae2c6e722523a4e1e3d8e1a9449d1e93efc09665ee7d98f49a2\n",
            "  Stored in directory: /root/.cache/pip/wheels/07/27/db/1222c80eb1e431f3d2199c12569cb1cac60f562a451fe30479\n",
            "  Building wheel for yfinance (setup.py) ... \u001b[?25l\u001b[?25hdone\n",
            "  Created wheel for yfinance: filename=yfinance-0.1.63-py2.py3-none-any.whl size=23918 sha256=9672bf58aaaa0e70053f72671571606bab753fde477cb0ec44db93f40890b19f\n",
            "  Stored in directory: /root/.cache/pip/wheels/fe/87/8b/7ec24486e001d3926537f5f7801f57a74d181be25b11157983\n",
            "Successfully built qiskit dlx docplex python-constraint yfinance\n",
            "Installing collected packages: tweedledum, symengine, retworkx, python-constraint, ply, fastjsonschema, qiskit-terra, ntlm-auth, lxml, inflection, cryptography, yfinance, websocket-client, requests-ntlm, quandl, qiskit-ignis, pybind11, docplex, dlx, qiskit-ibmq-provider, qiskit-aqua, qiskit-aer, qiskit\n",
            "  Attempting uninstall: lxml\n",
            "    Found existing installation: lxml 4.2.6\n",
            "    Uninstalling lxml-4.2.6:\n",
            "      Successfully uninstalled lxml-4.2.6\n",
            "Successfully installed cryptography-3.4.8 dlx-1.0.4 docplex-2.21.207 fastjsonschema-2.15.1 inflection-0.5.1 lxml-4.6.3 ntlm-auth-1.5.0 ply-3.11 pybind11-2.7.1 python-constraint-1.4.0 qiskit-0.29.1 qiskit-aer-0.8.2 qiskit-aqua-0.9.5 qiskit-ibmq-provider-0.16.0 qiskit-ignis-0.6.0 qiskit-terra-0.18.2 quandl-3.6.1 requests-ntlm-1.1.0 retworkx-0.10.2 symengine-0.8.1 tweedledum-1.1.1 websocket-client-1.2.1 yfinance-0.1.63\n"
          ]
        }
      ]
    },
    {
      "cell_type": "code",
      "metadata": {
        "colab": {
          "base_uri": "https://localhost:8080/"
        },
        "id": "0gP_dw6a8p4c",
        "outputId": "88dcd65c-dc95-419c-df7e-9024f391a24e"
      },
      "source": [
        "pip install ibm_quantum_widgets"
      ],
      "execution_count": 3,
      "outputs": [
        {
          "output_type": "stream",
          "name": "stdout",
          "text": [
            "Collecting ibm_quantum_widgets\n",
            "  Downloading ibm_quantum_widgets-1.0.3-py2.py3-none-any.whl (993 kB)\n",
            "\u001b[?25l\r\u001b[K     |▎                               | 10 kB 22.6 MB/s eta 0:00:01\r\u001b[K     |▋                               | 20 kB 27.3 MB/s eta 0:00:01\r\u001b[K     |█                               | 30 kB 13.5 MB/s eta 0:00:01\r\u001b[K     |█▎                              | 40 kB 10.2 MB/s eta 0:00:01\r\u001b[K     |█▋                              | 51 kB 5.2 MB/s eta 0:00:01\r\u001b[K     |██                              | 61 kB 5.4 MB/s eta 0:00:01\r\u001b[K     |██▎                             | 71 kB 6.0 MB/s eta 0:00:01\r\u001b[K     |██▋                             | 81 kB 6.7 MB/s eta 0:00:01\r\u001b[K     |███                             | 92 kB 6.9 MB/s eta 0:00:01\r\u001b[K     |███▎                            | 102 kB 5.4 MB/s eta 0:00:01\r\u001b[K     |███▋                            | 112 kB 5.4 MB/s eta 0:00:01\r\u001b[K     |████                            | 122 kB 5.4 MB/s eta 0:00:01\r\u001b[K     |████▎                           | 133 kB 5.4 MB/s eta 0:00:01\r\u001b[K     |████▋                           | 143 kB 5.4 MB/s eta 0:00:01\r\u001b[K     |█████                           | 153 kB 5.4 MB/s eta 0:00:01\r\u001b[K     |█████▎                          | 163 kB 5.4 MB/s eta 0:00:01\r\u001b[K     |█████▋                          | 174 kB 5.4 MB/s eta 0:00:01\r\u001b[K     |██████                          | 184 kB 5.4 MB/s eta 0:00:01\r\u001b[K     |██████▎                         | 194 kB 5.4 MB/s eta 0:00:01\r\u001b[K     |██████▋                         | 204 kB 5.4 MB/s eta 0:00:01\r\u001b[K     |███████                         | 215 kB 5.4 MB/s eta 0:00:01\r\u001b[K     |███████▎                        | 225 kB 5.4 MB/s eta 0:00:01\r\u001b[K     |███████▋                        | 235 kB 5.4 MB/s eta 0:00:01\r\u001b[K     |████████                        | 245 kB 5.4 MB/s eta 0:00:01\r\u001b[K     |████████▎                       | 256 kB 5.4 MB/s eta 0:00:01\r\u001b[K     |████████▋                       | 266 kB 5.4 MB/s eta 0:00:01\r\u001b[K     |█████████                       | 276 kB 5.4 MB/s eta 0:00:01\r\u001b[K     |█████████▎                      | 286 kB 5.4 MB/s eta 0:00:01\r\u001b[K     |█████████▋                      | 296 kB 5.4 MB/s eta 0:00:01\r\u001b[K     |██████████                      | 307 kB 5.4 MB/s eta 0:00:01\r\u001b[K     |██████████▎                     | 317 kB 5.4 MB/s eta 0:00:01\r\u001b[K     |██████████▌                     | 327 kB 5.4 MB/s eta 0:00:01\r\u001b[K     |██████████▉                     | 337 kB 5.4 MB/s eta 0:00:01\r\u001b[K     |███████████▏                    | 348 kB 5.4 MB/s eta 0:00:01\r\u001b[K     |███████████▌                    | 358 kB 5.4 MB/s eta 0:00:01\r\u001b[K     |███████████▉                    | 368 kB 5.4 MB/s eta 0:00:01\r\u001b[K     |████████████▏                   | 378 kB 5.4 MB/s eta 0:00:01\r\u001b[K     |████████████▌                   | 389 kB 5.4 MB/s eta 0:00:01\r\u001b[K     |████████████▉                   | 399 kB 5.4 MB/s eta 0:00:01\r\u001b[K     |█████████████▏                  | 409 kB 5.4 MB/s eta 0:00:01\r\u001b[K     |█████████████▌                  | 419 kB 5.4 MB/s eta 0:00:01\r\u001b[K     |█████████████▉                  | 430 kB 5.4 MB/s eta 0:00:01\r\u001b[K     |██████████████▏                 | 440 kB 5.4 MB/s eta 0:00:01\r\u001b[K     |██████████████▌                 | 450 kB 5.4 MB/s eta 0:00:01\r\u001b[K     |██████████████▉                 | 460 kB 5.4 MB/s eta 0:00:01\r\u001b[K     |███████████████▏                | 471 kB 5.4 MB/s eta 0:00:01\r\u001b[K     |███████████████▌                | 481 kB 5.4 MB/s eta 0:00:01\r\u001b[K     |███████████████▉                | 491 kB 5.4 MB/s eta 0:00:01\r\u001b[K     |████████████████▏               | 501 kB 5.4 MB/s eta 0:00:01\r\u001b[K     |████████████████▌               | 512 kB 5.4 MB/s eta 0:00:01\r\u001b[K     |████████████████▉               | 522 kB 5.4 MB/s eta 0:00:01\r\u001b[K     |█████████████████▏              | 532 kB 5.4 MB/s eta 0:00:01\r\u001b[K     |█████████████████▌              | 542 kB 5.4 MB/s eta 0:00:01\r\u001b[K     |█████████████████▉              | 552 kB 5.4 MB/s eta 0:00:01\r\u001b[K     |██████████████████▏             | 563 kB 5.4 MB/s eta 0:00:01\r\u001b[K     |██████████████████▌             | 573 kB 5.4 MB/s eta 0:00:01\r\u001b[K     |██████████████████▉             | 583 kB 5.4 MB/s eta 0:00:01\r\u001b[K     |███████████████████▏            | 593 kB 5.4 MB/s eta 0:00:01\r\u001b[K     |███████████████████▌            | 604 kB 5.4 MB/s eta 0:00:01\r\u001b[K     |███████████████████▉            | 614 kB 5.4 MB/s eta 0:00:01\r\u001b[K     |████████████████████▏           | 624 kB 5.4 MB/s eta 0:00:01\r\u001b[K     |████████████████████▌           | 634 kB 5.4 MB/s eta 0:00:01\r\u001b[K     |████████████████████▉           | 645 kB 5.4 MB/s eta 0:00:01\r\u001b[K     |█████████████████████           | 655 kB 5.4 MB/s eta 0:00:01\r\u001b[K     |█████████████████████▍          | 665 kB 5.4 MB/s eta 0:00:01\r\u001b[K     |█████████████████████▊          | 675 kB 5.4 MB/s eta 0:00:01\r\u001b[K     |██████████████████████          | 686 kB 5.4 MB/s eta 0:00:01\r\u001b[K     |██████████████████████▍         | 696 kB 5.4 MB/s eta 0:00:01\r\u001b[K     |██████████████████████▊         | 706 kB 5.4 MB/s eta 0:00:01\r\u001b[K     |███████████████████████         | 716 kB 5.4 MB/s eta 0:00:01\r\u001b[K     |███████████████████████▍        | 727 kB 5.4 MB/s eta 0:00:01\r\u001b[K     |███████████████████████▊        | 737 kB 5.4 MB/s eta 0:00:01\r\u001b[K     |████████████████████████        | 747 kB 5.4 MB/s eta 0:00:01\r\u001b[K     |████████████████████████▍       | 757 kB 5.4 MB/s eta 0:00:01\r\u001b[K     |████████████████████████▊       | 768 kB 5.4 MB/s eta 0:00:01\r\u001b[K     |█████████████████████████       | 778 kB 5.4 MB/s eta 0:00:01\r\u001b[K     |█████████████████████████▍      | 788 kB 5.4 MB/s eta 0:00:01\r\u001b[K     |█████████████████████████▊      | 798 kB 5.4 MB/s eta 0:00:01\r\u001b[K     |██████████████████████████      | 808 kB 5.4 MB/s eta 0:00:01\r\u001b[K     |██████████████████████████▍     | 819 kB 5.4 MB/s eta 0:00:01\r\u001b[K     |██████████████████████████▊     | 829 kB 5.4 MB/s eta 0:00:01\r\u001b[K     |███████████████████████████     | 839 kB 5.4 MB/s eta 0:00:01\r\u001b[K     |███████████████████████████▍    | 849 kB 5.4 MB/s eta 0:00:01\r\u001b[K     |███████████████████████████▊    | 860 kB 5.4 MB/s eta 0:00:01\r\u001b[K     |████████████████████████████    | 870 kB 5.4 MB/s eta 0:00:01\r\u001b[K     |████████████████████████████▍   | 880 kB 5.4 MB/s eta 0:00:01\r\u001b[K     |████████████████████████████▊   | 890 kB 5.4 MB/s eta 0:00:01\r\u001b[K     |█████████████████████████████   | 901 kB 5.4 MB/s eta 0:00:01\r\u001b[K     |█████████████████████████████▍  | 911 kB 5.4 MB/s eta 0:00:01\r\u001b[K     |█████████████████████████████▊  | 921 kB 5.4 MB/s eta 0:00:01\r\u001b[K     |██████████████████████████████  | 931 kB 5.4 MB/s eta 0:00:01\r\u001b[K     |██████████████████████████████▍ | 942 kB 5.4 MB/s eta 0:00:01\r\u001b[K     |██████████████████████████████▊ | 952 kB 5.4 MB/s eta 0:00:01\r\u001b[K     |███████████████████████████████ | 962 kB 5.4 MB/s eta 0:00:01\r\u001b[K     |███████████████████████████████▍| 972 kB 5.4 MB/s eta 0:00:01\r\u001b[K     |███████████████████████████████▋| 983 kB 5.4 MB/s eta 0:00:01\r\u001b[K     |████████████████████████████████| 993 kB 5.4 MB/s eta 0:00:01\r\u001b[K     |████████████████████████████████| 993 kB 5.4 MB/s \n",
            "\u001b[?25hRequirement already satisfied: ipywidgets>=7.0.0 in /usr/local/lib/python3.7/dist-packages (from ibm_quantum_widgets) (7.6.3)\n",
            "Requirement already satisfied: qiskit>=0.23.5 in /usr/local/lib/python3.7/dist-packages (from ibm_quantum_widgets) (0.29.1)\n",
            "Requirement already satisfied: jupyterlab-widgets>=1.0.0 in /usr/local/lib/python3.7/dist-packages (from ipywidgets>=7.0.0->ibm_quantum_widgets) (1.0.0)\n",
            "Requirement already satisfied: traitlets>=4.3.1 in /usr/local/lib/python3.7/dist-packages (from ipywidgets>=7.0.0->ibm_quantum_widgets) (5.0.5)\n",
            "Requirement already satisfied: widgetsnbextension~=3.5.0 in /usr/local/lib/python3.7/dist-packages (from ipywidgets>=7.0.0->ibm_quantum_widgets) (3.5.1)\n",
            "Requirement already satisfied: ipykernel>=4.5.1 in /usr/local/lib/python3.7/dist-packages (from ipywidgets>=7.0.0->ibm_quantum_widgets) (4.10.1)\n",
            "Requirement already satisfied: nbformat>=4.2.0 in /usr/local/lib/python3.7/dist-packages (from ipywidgets>=7.0.0->ibm_quantum_widgets) (5.1.3)\n",
            "Requirement already satisfied: ipython>=4.0.0 in /usr/local/lib/python3.7/dist-packages (from ipywidgets>=7.0.0->ibm_quantum_widgets) (5.5.0)\n",
            "Requirement already satisfied: tornado>=4.0 in /usr/local/lib/python3.7/dist-packages (from ipykernel>=4.5.1->ipywidgets>=7.0.0->ibm_quantum_widgets) (5.1.1)\n",
            "Requirement already satisfied: jupyter-client in /usr/local/lib/python3.7/dist-packages (from ipykernel>=4.5.1->ipywidgets>=7.0.0->ibm_quantum_widgets) (5.3.5)\n",
            "Requirement already satisfied: pickleshare in /usr/local/lib/python3.7/dist-packages (from ipython>=4.0.0->ipywidgets>=7.0.0->ibm_quantum_widgets) (0.7.5)\n",
            "Requirement already satisfied: pexpect in /usr/local/lib/python3.7/dist-packages (from ipython>=4.0.0->ipywidgets>=7.0.0->ibm_quantum_widgets) (4.8.0)\n",
            "Requirement already satisfied: pygments in /usr/local/lib/python3.7/dist-packages (from ipython>=4.0.0->ipywidgets>=7.0.0->ibm_quantum_widgets) (2.6.1)\n",
            "Requirement already satisfied: setuptools>=18.5 in /usr/local/lib/python3.7/dist-packages (from ipython>=4.0.0->ipywidgets>=7.0.0->ibm_quantum_widgets) (57.4.0)\n",
            "Requirement already satisfied: prompt-toolkit<2.0.0,>=1.0.4 in /usr/local/lib/python3.7/dist-packages (from ipython>=4.0.0->ipywidgets>=7.0.0->ibm_quantum_widgets) (1.0.18)\n",
            "Requirement already satisfied: decorator in /usr/local/lib/python3.7/dist-packages (from ipython>=4.0.0->ipywidgets>=7.0.0->ibm_quantum_widgets) (4.4.2)\n",
            "Requirement already satisfied: simplegeneric>0.8 in /usr/local/lib/python3.7/dist-packages (from ipython>=4.0.0->ipywidgets>=7.0.0->ibm_quantum_widgets) (0.8.1)\n",
            "Requirement already satisfied: jupyter-core in /usr/local/lib/python3.7/dist-packages (from nbformat>=4.2.0->ipywidgets>=7.0.0->ibm_quantum_widgets) (4.7.1)\n",
            "Requirement already satisfied: ipython-genutils in /usr/local/lib/python3.7/dist-packages (from nbformat>=4.2.0->ipywidgets>=7.0.0->ibm_quantum_widgets) (0.2.0)\n",
            "Requirement already satisfied: jsonschema!=2.5.0,>=2.4 in /usr/local/lib/python3.7/dist-packages (from nbformat>=4.2.0->ipywidgets>=7.0.0->ibm_quantum_widgets) (2.6.0)\n",
            "Requirement already satisfied: six>=1.9.0 in /usr/local/lib/python3.7/dist-packages (from prompt-toolkit<2.0.0,>=1.0.4->ipython>=4.0.0->ipywidgets>=7.0.0->ibm_quantum_widgets) (1.15.0)\n",
            "Requirement already satisfied: wcwidth in /usr/local/lib/python3.7/dist-packages (from prompt-toolkit<2.0.0,>=1.0.4->ipython>=4.0.0->ipywidgets>=7.0.0->ibm_quantum_widgets) (0.2.5)\n",
            "Requirement already satisfied: qiskit-ignis==0.6.0 in /usr/local/lib/python3.7/dist-packages (from qiskit>=0.23.5->ibm_quantum_widgets) (0.6.0)\n",
            "Requirement already satisfied: qiskit-aqua==0.9.5 in /usr/local/lib/python3.7/dist-packages (from qiskit>=0.23.5->ibm_quantum_widgets) (0.9.5)\n",
            "Requirement already satisfied: qiskit-terra==0.18.2 in /usr/local/lib/python3.7/dist-packages (from qiskit>=0.23.5->ibm_quantum_widgets) (0.18.2)\n",
            "Requirement already satisfied: qiskit-aer==0.8.2 in /usr/local/lib/python3.7/dist-packages (from qiskit>=0.23.5->ibm_quantum_widgets) (0.8.2)\n",
            "Requirement already satisfied: qiskit-ibmq-provider==0.16.0 in /usr/local/lib/python3.7/dist-packages (from qiskit>=0.23.5->ibm_quantum_widgets) (0.16.0)\n",
            "Requirement already satisfied: scipy>=1.0 in /usr/local/lib/python3.7/dist-packages (from qiskit-aer==0.8.2->qiskit>=0.23.5->ibm_quantum_widgets) (1.4.1)\n",
            "Requirement already satisfied: pybind11>=2.6 in /usr/local/lib/python3.7/dist-packages (from qiskit-aer==0.8.2->qiskit>=0.23.5->ibm_quantum_widgets) (2.7.1)\n",
            "Requirement already satisfied: numpy>=1.16.3 in /usr/local/lib/python3.7/dist-packages (from qiskit-aer==0.8.2->qiskit>=0.23.5->ibm_quantum_widgets) (1.19.5)\n",
            "Requirement already satisfied: yfinance>=0.1.62 in /usr/local/lib/python3.7/dist-packages (from qiskit-aqua==0.9.5->qiskit>=0.23.5->ibm_quantum_widgets) (0.1.63)\n",
            "Requirement already satisfied: psutil>=5 in /usr/local/lib/python3.7/dist-packages (from qiskit-aqua==0.9.5->qiskit>=0.23.5->ibm_quantum_widgets) (5.4.8)\n",
            "Requirement already satisfied: sympy>=1.3 in /usr/local/lib/python3.7/dist-packages (from qiskit-aqua==0.9.5->qiskit>=0.23.5->ibm_quantum_widgets) (1.7.1)\n",
            "Requirement already satisfied: docplex>=2.21.207 in /usr/local/lib/python3.7/dist-packages (from qiskit-aqua==0.9.5->qiskit>=0.23.5->ibm_quantum_widgets) (2.21.207)\n",
            "Requirement already satisfied: retworkx>=0.8.0 in /usr/local/lib/python3.7/dist-packages (from qiskit-aqua==0.9.5->qiskit>=0.23.5->ibm_quantum_widgets) (0.10.2)\n",
            "Requirement already satisfied: fastdtw<=0.3.4 in /usr/local/lib/python3.7/dist-packages (from qiskit-aqua==0.9.5->qiskit>=0.23.5->ibm_quantum_widgets) (0.3.4)\n",
            "Requirement already satisfied: scikit-learn>=0.20.0 in /usr/local/lib/python3.7/dist-packages (from qiskit-aqua==0.9.5->qiskit>=0.23.5->ibm_quantum_widgets) (0.22.2.post1)\n",
            "Requirement already satisfied: pandas in /usr/local/lib/python3.7/dist-packages (from qiskit-aqua==0.9.5->qiskit>=0.23.5->ibm_quantum_widgets) (1.1.5)\n",
            "Requirement already satisfied: dlx<=1.0.4 in /usr/local/lib/python3.7/dist-packages (from qiskit-aqua==0.9.5->qiskit>=0.23.5->ibm_quantum_widgets) (1.0.4)\n",
            "Requirement already satisfied: h5py<3.3.0 in /usr/local/lib/python3.7/dist-packages (from qiskit-aqua==0.9.5->qiskit>=0.23.5->ibm_quantum_widgets) (3.1.0)\n",
            "Requirement already satisfied: quandl in /usr/local/lib/python3.7/dist-packages (from qiskit-aqua==0.9.5->qiskit>=0.23.5->ibm_quantum_widgets) (3.6.1)\n",
            "Requirement already satisfied: requests-ntlm>=1.1.0 in /usr/local/lib/python3.7/dist-packages (from qiskit-ibmq-provider==0.16.0->qiskit>=0.23.5->ibm_quantum_widgets) (1.1.0)\n",
            "Requirement already satisfied: python-dateutil>=2.8.0 in /usr/local/lib/python3.7/dist-packages (from qiskit-ibmq-provider==0.16.0->qiskit>=0.23.5->ibm_quantum_widgets) (2.8.2)\n",
            "Requirement already satisfied: websocket-client>=1.0.1 in /usr/local/lib/python3.7/dist-packages (from qiskit-ibmq-provider==0.16.0->qiskit>=0.23.5->ibm_quantum_widgets) (1.2.1)\n",
            "Requirement already satisfied: requests>=2.19 in /usr/local/lib/python3.7/dist-packages (from qiskit-ibmq-provider==0.16.0->qiskit>=0.23.5->ibm_quantum_widgets) (2.23.0)\n",
            "Requirement already satisfied: urllib3>=1.21.1 in /usr/local/lib/python3.7/dist-packages (from qiskit-ibmq-provider==0.16.0->qiskit>=0.23.5->ibm_quantum_widgets) (1.24.3)\n",
            "Requirement already satisfied: ply>=3.10 in /usr/local/lib/python3.7/dist-packages (from qiskit-terra==0.18.2->qiskit>=0.23.5->ibm_quantum_widgets) (3.11)\n",
            "Requirement already satisfied: dill>=0.3 in /usr/local/lib/python3.7/dist-packages (from qiskit-terra==0.18.2->qiskit>=0.23.5->ibm_quantum_widgets) (0.3.4)\n",
            "Requirement already satisfied: fastjsonschema>=2.10 in /usr/local/lib/python3.7/dist-packages (from qiskit-terra==0.18.2->qiskit>=0.23.5->ibm_quantum_widgets) (2.15.1)\n",
            "Requirement already satisfied: symengine>0.7 in /usr/local/lib/python3.7/dist-packages (from qiskit-terra==0.18.2->qiskit>=0.23.5->ibm_quantum_widgets) (0.8.1)\n",
            "Requirement already satisfied: python-constraint>=1.4 in /usr/local/lib/python3.7/dist-packages (from qiskit-terra==0.18.2->qiskit>=0.23.5->ibm_quantum_widgets) (1.4.0)\n",
            "Requirement already satisfied: tweedledum<2.0,>=1.1 in /usr/local/lib/python3.7/dist-packages (from qiskit-terra==0.18.2->qiskit>=0.23.5->ibm_quantum_widgets) (1.1.1)\n",
            "Requirement already satisfied: cached-property in /usr/local/lib/python3.7/dist-packages (from h5py<3.3.0->qiskit-aqua==0.9.5->qiskit>=0.23.5->ibm_quantum_widgets) (1.5.2)\n",
            "Requirement already satisfied: chardet<4,>=3.0.2 in /usr/local/lib/python3.7/dist-packages (from requests>=2.19->qiskit-ibmq-provider==0.16.0->qiskit>=0.23.5->ibm_quantum_widgets) (3.0.4)\n",
            "Requirement already satisfied: certifi>=2017.4.17 in /usr/local/lib/python3.7/dist-packages (from requests>=2.19->qiskit-ibmq-provider==0.16.0->qiskit>=0.23.5->ibm_quantum_widgets) (2021.5.30)\n",
            "Requirement already satisfied: idna<3,>=2.5 in /usr/local/lib/python3.7/dist-packages (from requests>=2.19->qiskit-ibmq-provider==0.16.0->qiskit>=0.23.5->ibm_quantum_widgets) (2.10)\n",
            "Requirement already satisfied: cryptography>=1.3 in /usr/local/lib/python3.7/dist-packages (from requests-ntlm>=1.1.0->qiskit-ibmq-provider==0.16.0->qiskit>=0.23.5->ibm_quantum_widgets) (3.4.8)\n",
            "Requirement already satisfied: ntlm-auth>=1.0.2 in /usr/local/lib/python3.7/dist-packages (from requests-ntlm>=1.1.0->qiskit-ibmq-provider==0.16.0->qiskit>=0.23.5->ibm_quantum_widgets) (1.5.0)\n",
            "Requirement already satisfied: cffi>=1.12 in /usr/local/lib/python3.7/dist-packages (from cryptography>=1.3->requests-ntlm>=1.1.0->qiskit-ibmq-provider==0.16.0->qiskit>=0.23.5->ibm_quantum_widgets) (1.14.6)\n",
            "Requirement already satisfied: pycparser in /usr/local/lib/python3.7/dist-packages (from cffi>=1.12->cryptography>=1.3->requests-ntlm>=1.1.0->qiskit-ibmq-provider==0.16.0->qiskit>=0.23.5->ibm_quantum_widgets) (2.20)\n",
            "Requirement already satisfied: joblib>=0.11 in /usr/local/lib/python3.7/dist-packages (from scikit-learn>=0.20.0->qiskit-aqua==0.9.5->qiskit>=0.23.5->ibm_quantum_widgets) (1.0.1)\n",
            "Requirement already satisfied: mpmath>=0.19 in /usr/local/lib/python3.7/dist-packages (from sympy>=1.3->qiskit-aqua==0.9.5->qiskit>=0.23.5->ibm_quantum_widgets) (1.2.1)\n",
            "Requirement already satisfied: notebook>=4.4.1 in /usr/local/lib/python3.7/dist-packages (from widgetsnbextension~=3.5.0->ipywidgets>=7.0.0->ibm_quantum_widgets) (5.3.1)\n",
            "Requirement already satisfied: terminado>=0.8.1 in /usr/local/lib/python3.7/dist-packages (from notebook>=4.4.1->widgetsnbextension~=3.5.0->ipywidgets>=7.0.0->ibm_quantum_widgets) (0.11.0)\n",
            "Requirement already satisfied: Send2Trash in /usr/local/lib/python3.7/dist-packages (from notebook>=4.4.1->widgetsnbextension~=3.5.0->ipywidgets>=7.0.0->ibm_quantum_widgets) (1.8.0)\n",
            "Requirement already satisfied: nbconvert in /usr/local/lib/python3.7/dist-packages (from notebook>=4.4.1->widgetsnbextension~=3.5.0->ipywidgets>=7.0.0->ibm_quantum_widgets) (5.6.1)\n",
            "Requirement already satisfied: jinja2 in /usr/local/lib/python3.7/dist-packages (from notebook>=4.4.1->widgetsnbextension~=3.5.0->ipywidgets>=7.0.0->ibm_quantum_widgets) (2.11.3)\n",
            "Requirement already satisfied: pyzmq>=13 in /usr/local/lib/python3.7/dist-packages (from jupyter-client->ipykernel>=4.5.1->ipywidgets>=7.0.0->ibm_quantum_widgets) (22.2.1)\n",
            "Requirement already satisfied: ptyprocess in /usr/local/lib/python3.7/dist-packages (from terminado>=0.8.1->notebook>=4.4.1->widgetsnbextension~=3.5.0->ipywidgets>=7.0.0->ibm_quantum_widgets) (0.7.0)\n",
            "Requirement already satisfied: lxml>=4.5.1 in /usr/local/lib/python3.7/dist-packages (from yfinance>=0.1.62->qiskit-aqua==0.9.5->qiskit>=0.23.5->ibm_quantum_widgets) (4.6.3)\n",
            "Requirement already satisfied: multitasking>=0.0.7 in /usr/local/lib/python3.7/dist-packages (from yfinance>=0.1.62->qiskit-aqua==0.9.5->qiskit>=0.23.5->ibm_quantum_widgets) (0.0.9)\n",
            "Requirement already satisfied: pytz>=2017.2 in /usr/local/lib/python3.7/dist-packages (from pandas->qiskit-aqua==0.9.5->qiskit>=0.23.5->ibm_quantum_widgets) (2018.9)\n",
            "Requirement already satisfied: MarkupSafe>=0.23 in /usr/local/lib/python3.7/dist-packages (from jinja2->notebook>=4.4.1->widgetsnbextension~=3.5.0->ipywidgets>=7.0.0->ibm_quantum_widgets) (2.0.1)\n",
            "Requirement already satisfied: mistune<2,>=0.8.1 in /usr/local/lib/python3.7/dist-packages (from nbconvert->notebook>=4.4.1->widgetsnbextension~=3.5.0->ipywidgets>=7.0.0->ibm_quantum_widgets) (0.8.4)\n",
            "Requirement already satisfied: pandocfilters>=1.4.1 in /usr/local/lib/python3.7/dist-packages (from nbconvert->notebook>=4.4.1->widgetsnbextension~=3.5.0->ipywidgets>=7.0.0->ibm_quantum_widgets) (1.4.3)\n",
            "Requirement already satisfied: testpath in /usr/local/lib/python3.7/dist-packages (from nbconvert->notebook>=4.4.1->widgetsnbextension~=3.5.0->ipywidgets>=7.0.0->ibm_quantum_widgets) (0.5.0)\n",
            "Requirement already satisfied: defusedxml in /usr/local/lib/python3.7/dist-packages (from nbconvert->notebook>=4.4.1->widgetsnbextension~=3.5.0->ipywidgets>=7.0.0->ibm_quantum_widgets) (0.7.1)\n",
            "Requirement already satisfied: bleach in /usr/local/lib/python3.7/dist-packages (from nbconvert->notebook>=4.4.1->widgetsnbextension~=3.5.0->ipywidgets>=7.0.0->ibm_quantum_widgets) (4.0.0)\n",
            "Requirement already satisfied: entrypoints>=0.2.2 in /usr/local/lib/python3.7/dist-packages (from nbconvert->notebook>=4.4.1->widgetsnbextension~=3.5.0->ipywidgets>=7.0.0->ibm_quantum_widgets) (0.3)\n",
            "Requirement already satisfied: webencodings in /usr/local/lib/python3.7/dist-packages (from bleach->nbconvert->notebook>=4.4.1->widgetsnbextension~=3.5.0->ipywidgets>=7.0.0->ibm_quantum_widgets) (0.5.1)\n",
            "Requirement already satisfied: packaging in /usr/local/lib/python3.7/dist-packages (from bleach->nbconvert->notebook>=4.4.1->widgetsnbextension~=3.5.0->ipywidgets>=7.0.0->ibm_quantum_widgets) (21.0)\n",
            "Requirement already satisfied: pyparsing>=2.0.2 in /usr/local/lib/python3.7/dist-packages (from packaging->bleach->nbconvert->notebook>=4.4.1->widgetsnbextension~=3.5.0->ipywidgets>=7.0.0->ibm_quantum_widgets) (2.4.7)\n",
            "Requirement already satisfied: inflection>=0.3.1 in /usr/local/lib/python3.7/dist-packages (from quandl->qiskit-aqua==0.9.5->qiskit>=0.23.5->ibm_quantum_widgets) (0.5.1)\n",
            "Requirement already satisfied: more-itertools in /usr/local/lib/python3.7/dist-packages (from quandl->qiskit-aqua==0.9.5->qiskit>=0.23.5->ibm_quantum_widgets) (8.8.0)\n",
            "Installing collected packages: ibm-quantum-widgets\n",
            "Successfully installed ibm-quantum-widgets-1.0.3\n"
          ]
        }
      ]
    },
    {
      "cell_type": "code",
      "metadata": {
        "colab": {
          "base_uri": "https://localhost:8080/"
        },
        "id": "-r84ZS1c8se8",
        "outputId": "828470b5-965c-4adf-950c-39c35fc2514b"
      },
      "source": [
        "pip install pylatexenc"
      ],
      "execution_count": 4,
      "outputs": [
        {
          "output_type": "stream",
          "name": "stdout",
          "text": [
            "Collecting pylatexenc\n",
            "  Downloading pylatexenc-2.10.tar.gz (162 kB)\n",
            "\u001b[?25l\r\u001b[K     |██                              | 10 kB 14.6 MB/s eta 0:00:01\r\u001b[K     |████                            | 20 kB 16.9 MB/s eta 0:00:01\r\u001b[K     |██████                          | 30 kB 13.8 MB/s eta 0:00:01\r\u001b[K     |████████                        | 40 kB 10.1 MB/s eta 0:00:01\r\u001b[K     |██████████                      | 51 kB 5.6 MB/s eta 0:00:01\r\u001b[K     |████████████                    | 61 kB 6.2 MB/s eta 0:00:01\r\u001b[K     |██████████████                  | 71 kB 5.8 MB/s eta 0:00:01\r\u001b[K     |████████████████▏               | 81 kB 6.5 MB/s eta 0:00:01\r\u001b[K     |██████████████████▏             | 92 kB 4.9 MB/s eta 0:00:01\r\u001b[K     |████████████████████▏           | 102 kB 5.3 MB/s eta 0:00:01\r\u001b[K     |██████████████████████▏         | 112 kB 5.3 MB/s eta 0:00:01\r\u001b[K     |████████████████████████▏       | 122 kB 5.3 MB/s eta 0:00:01\r\u001b[K     |██████████████████████████▏     | 133 kB 5.3 MB/s eta 0:00:01\r\u001b[K     |████████████████████████████▏   | 143 kB 5.3 MB/s eta 0:00:01\r\u001b[K     |██████████████████████████████▎ | 153 kB 5.3 MB/s eta 0:00:01\r\u001b[K     |████████████████████████████████| 162 kB 5.3 MB/s \n",
            "\u001b[?25hBuilding wheels for collected packages: pylatexenc\n",
            "  Building wheel for pylatexenc (setup.py) ... \u001b[?25l\u001b[?25hdone\n",
            "  Created wheel for pylatexenc: filename=pylatexenc-2.10-py3-none-any.whl size=136833 sha256=3f578a81e1d468a5e384e5a73c5584aa9508ec67dc3c7e2350c5cea234e871e6\n",
            "  Stored in directory: /root/.cache/pip/wheels/f1/8a/f5/33ee79d4473eb201b519fa40f989b842e373237395a3421f52\n",
            "Successfully built pylatexenc\n",
            "Installing collected packages: pylatexenc\n",
            "Successfully installed pylatexenc-2.10\n"
          ]
        }
      ]
    },
    {
      "cell_type": "code",
      "metadata": {
        "id": "8UAKft4-CHtv",
        "colab": {
          "base_uri": "https://localhost:8080/",
          "height": 358
        },
        "outputId": "4283ba2f-83be-46d3-f297-2847353ec0a6"
      },
      "source": [
        "from qiskit import QuantumCircuit, transpile, Aer, IBMQ, execute\n",
        "from qiskit.tools.jupyter import *\n",
        "from qiskit.visualization import *\n",
        "from ibm_quantum_widgets import *\n",
        "\n",
        "# Loading your IBM Quantum account(s)\n",
        "IBMQ.save_account('') # '' 안에 자신의 API token 복붙하기\n",
        "provider = IBMQ.load_account()"
      ],
      "execution_count": 24,
      "outputs": [
        {
          "output_type": "error",
          "ename": "IBMQAccountCredentialsInvalidToken",
          "evalue": "ignored",
          "traceback": [
            "\u001b[0;31m---------------------------------------------------------------------------\u001b[0m",
            "\u001b[0;31mIBMQAccountCredentialsInvalidToken\u001b[0m        Traceback (most recent call last)",
            "\u001b[0;32m<ipython-input-24-bd36aa5ca9e1>\u001b[0m in \u001b[0;36m<module>\u001b[0;34m()\u001b[0m\n\u001b[1;32m      5\u001b[0m \u001b[0;34m\u001b[0m\u001b[0m\n\u001b[1;32m      6\u001b[0m \u001b[0;31m# Loading your IBM Quantum account(s)\u001b[0m\u001b[0;34m\u001b[0m\u001b[0;34m\u001b[0m\u001b[0;34m\u001b[0m\u001b[0m\n\u001b[0;32m----> 7\u001b[0;31m \u001b[0mIBMQ\u001b[0m\u001b[0;34m.\u001b[0m\u001b[0msave_account\u001b[0m\u001b[0;34m(\u001b[0m\u001b[0;34m''\u001b[0m\u001b[0;34m)\u001b[0m \u001b[0;31m# '' 안에 자신의 API token 복붙하기\u001b[0m\u001b[0;34m\u001b[0m\u001b[0;34m\u001b[0m\u001b[0m\n\u001b[0m\u001b[1;32m      8\u001b[0m \u001b[0mprovider\u001b[0m \u001b[0;34m=\u001b[0m \u001b[0mIBMQ\u001b[0m\u001b[0;34m.\u001b[0m\u001b[0mload_account\u001b[0m\u001b[0;34m(\u001b[0m\u001b[0;34m)\u001b[0m\u001b[0;34m\u001b[0m\u001b[0;34m\u001b[0m\u001b[0m\n",
            "\u001b[0;32m/usr/local/lib/python3.7/dist-packages/qiskit/providers/ibmq/ibmqfactory.py\u001b[0m in \u001b[0;36msave_account\u001b[0;34m(token, url, hub, group, project, overwrite, **kwargs)\u001b[0m\n\u001b[1;32m    257\u001b[0m             raise IBMQAccountCredentialsInvalidToken(\n\u001b[1;32m    258\u001b[0m                 \u001b[0;34m'Invalid IBM Quantum Experience token '\u001b[0m\u001b[0;34m\u001b[0m\u001b[0;34m\u001b[0m\u001b[0m\n\u001b[0;32m--> 259\u001b[0;31m                 'found: \"{}\" of type {}.'.format(token, type(token)))\n\u001b[0m\u001b[1;32m    260\u001b[0m \u001b[0;34m\u001b[0m\u001b[0m\n\u001b[1;32m    261\u001b[0m         \u001b[0;31m# If any `hub`, `group`, or `project` is specified, make sure all parameters are set.\u001b[0m\u001b[0;34m\u001b[0m\u001b[0;34m\u001b[0m\u001b[0;34m\u001b[0m\u001b[0m\n",
            "\u001b[0;31mIBMQAccountCredentialsInvalidToken\u001b[0m: 'Invalid IBM Quantum Experience token found: \"\" of type <class \\'str\\'>.'"
          ]
        }
      ]
    },
    {
      "cell_type": "markdown",
      "metadata": {
        "id": "kdL0QfxoEUS-"
      },
      "source": [
        "# z방향 실험"
      ]
    },
    {
      "cell_type": "code",
      "metadata": {
        "colab": {
          "base_uri": "https://localhost:8080/",
          "height": 140
        },
        "id": "LGDa1Qto8Xla",
        "outputId": "7666888d-60a6-493b-a901-93f21707519b"
      },
      "source": [
        "qc = QuantumCircuit(1,1)\n",
        " \n",
        "qc.x(0)  # |1> 상태\n",
        "qc.measure(0,0)\n",
        " \n",
        "qc.draw(output='mpl',initial_state=True,cregbundle=False)"
      ],
      "execution_count": 7,
      "outputs": [
        {
          "output_type": "execute_result",
          "data": {
            "image/png": "[encoded data removed]",
            "text/plain": [
              "<Figure size 237.569x144.48 with 1 Axes>"
            ]
          },
          "metadata": {},
          "execution_count": 7
        }
      ]
    },
    {
      "cell_type": "code",
      "metadata": {
        "colab": {
          "base_uri": "https://localhost:8080/",
          "height": 323
        },
        "id": "e3VRzvqtCSJg",
        "outputId": "dc4de64b-5dac-4612-ed47-8a6a92e81674"
      },
      "source": [
        "qasm_sim = Aer.get_backend('qasm_simulator')\n",
        "counts = execute(qc,qasm_sim).result().get_counts()\n",
        "plot_histogram(counts)"
      ],
      "execution_count": 8,
      "outputs": [
        {
          "output_type": "execute_result",
          "data": {
            "image/png": "[encoded data removed]",
            "text/plain": [
              "<Figure size 504x360 with 1 Axes>"
            ]
          },
          "metadata": {},
          "execution_count": 8
        }
      ]
    },
    {
      "cell_type": "code",
      "metadata": {
        "id": "87JMce2fCWxz"
      },
      "source": [
        "# 실제 양자컴퓨터에서 실행\n",
        "backend = provider.get_backend('ibmq_manila')\n",
        "job = execute(qc, backend)"
      ],
      "execution_count": 9,
      "outputs": []
    },
    {
      "cell_type": "code",
      "metadata": {
        "colab": {
          "base_uri": "https://localhost:8080/"
        },
        "id": "aNBGWU9zCh_h",
        "outputId": "fd40519c-35d3-43cc-d1d9-e35284027044"
      },
      "source": [
        "from qiskit.tools.monitor import job_monitor\n",
        "job_monitor(job)"
      ],
      "execution_count": 10,
      "outputs": [
        {
          "output_type": "stream",
          "name": "stdout",
          "text": [
            "Job Status: job has successfully run\n"
          ]
        }
      ]
    },
    {
      "cell_type": "code",
      "metadata": {
        "colab": {
          "base_uri": "https://localhost:8080/",
          "height": 323
        },
        "id": "L-AboPNjDtQW",
        "outputId": "39b5aad0-327a-4f38-c657-edb63412f4ac"
      },
      "source": [
        "result = job.result()\n",
        "counts = result.get_counts()\n",
        "plot_histogram(counts)"
      ],
      "execution_count": 11,
      "outputs": [
        {
          "output_type": "execute_result",
          "data": {
            "image/png": "[encoded data removed]",
            "text/plain": [
              "<Figure size 504x360 with 1 Axes>"
            ]
          },
          "metadata": {},
          "execution_count": 11
        }
      ]
    },
    {
      "cell_type": "markdown",
      "metadata": {
        "id": "g19dRRjWEruJ"
      },
      "source": [
        "# x방향 실험"
      ]
    },
    {
      "cell_type": "code",
      "metadata": {
        "colab": {
          "base_uri": "https://localhost:8080/",
          "height": 185
        },
        "id": "baa3-JnXEueZ",
        "outputId": "60550729-a7a3-473d-9497-caa8d3b0eb38"
      },
      "source": [
        "qc = QuantumCircuit(1,2)\n",
        "\n",
        "qc.x(0)  # |1> 상태\n",
        "qc.measure(0,0)\n",
        "qc.barrier()\n",
        "\n",
        "# 축 회전\n",
        "qc.x(0)\n",
        "qc.h(0)\n",
        "qc.measure(0,1)\n",
        "\n",
        "qc.draw(output='mpl',initial_state=True,cregbundle=False)"
      ],
      "execution_count": 12,
      "outputs": [
        {
          "output_type": "execute_result",
          "data": {
            "image/png": "[encoded data removed]",
            "text/plain": [
              "<Figure size 478.369x204.68 with 1 Axes>"
            ]
          },
          "metadata": {},
          "execution_count": 12
        }
      ]
    },
    {
      "cell_type": "code",
      "metadata": {
        "colab": {
          "base_uri": "https://localhost:8080/",
          "height": 334
        },
        "id": "pQnra6lhEy_2",
        "outputId": "af259e15-c743-4b6b-e5d8-45d0811f4dd3"
      },
      "source": [
        "counts = execute(qc,qasm_sim).result().get_counts()\n",
        "plot_histogram(counts)"
      ],
      "execution_count": 13,
      "outputs": [
        {
          "output_type": "execute_result",
          "data": {
            "image/png": "[encoded data removed]",
            "text/plain": [
              "<Figure size 504x360 with 1 Axes>"
            ]
          },
          "metadata": {},
          "execution_count": 13
        }
      ]
    },
    {
      "cell_type": "code",
      "metadata": {
        "id": "MqhMj0XIE5Yk"
      },
      "source": [
        "job = execute(qc, backend)"
      ],
      "execution_count": 14,
      "outputs": []
    },
    {
      "cell_type": "code",
      "metadata": {
        "colab": {
          "base_uri": "https://localhost:8080/"
        },
        "id": "OjnQVZNiE_7g",
        "outputId": "50bf7d05-42a8-4923-8721-c6e0fe522b19"
      },
      "source": [
        "job_monitor(job)"
      ],
      "execution_count": 15,
      "outputs": [
        {
          "output_type": "stream",
          "name": "stdout",
          "text": [
            "Job Status: job has successfully run\n"
          ]
        }
      ]
    },
    {
      "cell_type": "code",
      "metadata": {
        "colab": {
          "base_uri": "https://localhost:8080/",
          "height": 331
        },
        "id": "PJ6uNV5BFA39",
        "outputId": "2eaca270-60e6-4ed5-ae58-ecbe6c0fa89a"
      },
      "source": [
        "result = job.result()\n",
        "counts = result.get_counts()\n",
        "plot_histogram(counts)"
      ],
      "execution_count": 16,
      "outputs": [
        {
          "output_type": "execute_result",
          "data": {
            "image/png": "[encoded data removed]",
            "text/plain": [
              "<Figure size 504x360 with 1 Axes>"
            ]
          },
          "metadata": {},
          "execution_count": 16
        }
      ]
    },
    {
      "cell_type": "markdown",
      "metadata": {
        "id": "_zQt32HNFtD_"
      },
      "source": [
        "# x - z방향 실험"
      ]
    },
    {
      "cell_type": "code",
      "metadata": {
        "colab": {
          "base_uri": "https://localhost:8080/",
          "height": 185
        },
        "id": "QlZNCxkraVi5",
        "outputId": "23427f88-6372-4032-d9f0-6094760d776e"
      },
      "source": [
        "qc = QuantumCircuit(1,2)\n",
        "\n",
        "qc.x(0)  # |1> 상태\n",
        "qc.measure(0,0) # z축 측정\n",
        "qc.barrier()\n",
        "\n",
        "# 축 회전\n",
        "qc.x(0)\n",
        "qc.h(0)\n",
        "qc.barrier()\n",
        "\n",
        "# 축을 다시 돌려놓음\n",
        "qc.h(0)\n",
        "qc.x(0)\n",
        "qc.measure(0,1) # z축 측정\n",
        " \n",
        "qc.draw(output='mpl',initial_state=True,cregbundle=False)"
      ],
      "execution_count": 17,
      "outputs": [
        {
          "output_type": "execute_result",
          "data": {
            "image/png": "[encoded data removed]",
            "text/plain": [
              "<Figure size 658.969x204.68 with 1 Axes>"
            ]
          },
          "metadata": {},
          "execution_count": 17
        }
      ]
    },
    {
      "cell_type": "code",
      "metadata": {
        "colab": {
          "base_uri": "https://localhost:8080/",
          "height": 331
        },
        "id": "-xJU_9guaaSl",
        "outputId": "4fb02fc7-8614-4bfd-859b-d79dfba34eb5"
      },
      "source": [
        "counts = execute(qc,qasm_sim).result().get_counts()\n",
        "plot_histogram(counts)"
      ],
      "execution_count": 18,
      "outputs": [
        {
          "output_type": "execute_result",
          "data": {
            "image/png": "[encoded data removed]",
            "text/plain": [
              "<Figure size 504x360 with 1 Axes>"
            ]
          },
          "metadata": {},
          "execution_count": 18
        }
      ]
    },
    {
      "cell_type": "code",
      "metadata": {
        "colab": {
          "base_uri": "https://localhost:8080/",
          "height": 231
        },
        "id": "dz-XWkfdFoVu",
        "outputId": "e584b2e3-e8a2-465c-a5f9-190d9e2ab189"
      },
      "source": [
        "qc = QuantumCircuit(1,3)\n",
        " \n",
        "qc.x(0)  # |1> 상태\n",
        "qc.measure(0,0) # z축 측정\n",
        "qc.barrier()\n",
        "\n",
        "# 축 회전\n",
        "qc.x(0)\n",
        "qc.h(0)\n",
        "qc.measure(0,1) # x축 측정\n",
        "qc.barrier()\n",
        "\n",
        "# 축을 다시 돌려놓음\n",
        "qc.h(0)\n",
        "qc.x(0)\n",
        "qc.measure(0,2) # z축 측정\n",
        " \n",
        "qc.draw(output='mpl',initial_state=True,cregbundle=False)"
      ],
      "execution_count": 19,
      "outputs": [
        {
          "output_type": "execute_result",
          "data": {
            "image/png": "[encoded data removed]",
            "text/plain": [
              "<Figure size 719.169x264.88 with 1 Axes>"
            ]
          },
          "metadata": {},
          "execution_count": 19
        }
      ]
    },
    {
      "cell_type": "code",
      "metadata": {
        "colab": {
          "base_uri": "https://localhost:8080/",
          "height": 344
        },
        "id": "4Yi4vMudF6yW",
        "outputId": "18cf8545-ecee-482d-b645-ab694d3a5dcb"
      },
      "source": [
        "counts = execute(qc,qasm_sim).result().get_counts()\n",
        "plot_histogram(counts)"
      ],
      "execution_count": 20,
      "outputs": [
        {
          "output_type": "execute_result",
          "data": {
            "image/png": "[encoded data removed]",
            "text/plain": [
              "<Figure size 504x360 with 1 Axes>"
            ]
          },
          "metadata": {},
          "execution_count": 20
        }
      ]
    },
    {
      "cell_type": "code",
      "metadata": {
        "id": "YPmeMKkFF-L0"
      },
      "source": [
        "job = execute(qc, backend)"
      ],
      "execution_count": 21,
      "outputs": []
    },
    {
      "cell_type": "code",
      "metadata": {
        "colab": {
          "base_uri": "https://localhost:8080/"
        },
        "id": "VqUmRtA7GGvB",
        "outputId": "401a110a-16c2-4508-c5de-545250978375"
      },
      "source": [
        "job_monitor(job)"
      ],
      "execution_count": 22,
      "outputs": [
        {
          "output_type": "stream",
          "name": "stdout",
          "text": [
            "Job Status: job has successfully run\n"
          ]
        }
      ]
    },
    {
      "cell_type": "code",
      "metadata": {
        "colab": {
          "base_uri": "https://localhost:8080/",
          "height": 340
        },
        "id": "KupwgSNaGJL6",
        "outputId": "2016a04a-bf3f-4362-9270-f7b1200160fb"
      },
      "source": [
        "result = job.result()\n",
        "counts = result.get_counts()\n",
        "plot_histogram(counts)"
      ],
      "execution_count": 23,
      "outputs": [
        {
          "output_type": "execute_result",
          "data": {
            "image/png": "[encoded data removed]",
            "text/plain": [
              "<Figure size 504x360 with 1 Axes>"
            ]
          },
          "metadata": {},
          "execution_count": 23
        }
      ]
    }
  ]
}